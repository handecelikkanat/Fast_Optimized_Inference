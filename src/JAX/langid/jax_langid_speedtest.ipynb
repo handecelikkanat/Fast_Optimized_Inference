{
 "cells": [
  {
   "cell_type": "markdown",
   "metadata": {},
   "source": [
    "### Setup"
   ]
  },
  {
   "cell_type": "code",
   "execution_count": 1,
   "metadata": {},
   "outputs": [
    {
     "name": "stdout",
     "output_type": "stream",
     "text": [
      "jax device count: 1\n",
      "jax local device count:  1\n",
      "[CudaDevice(id=0)]\n"
     ]
    }
   ],
   "source": [
    "import torch\n",
    "import jax\n",
    "\n",
    "torch.cuda.is_available()\n",
    "\n",
    "\n",
    "# JAX setup\n",
    "JAX_SEED=42\n",
    "print('jax device count:', jax.device_count())  # total number of accelerator devices in the cluster\n",
    "print('jax local device count: ', jax.local_device_count())  # number of accelerator devices attached to this host\n",
    "\n",
    "print(jax.devices())"
   ]
  },
  {
   "cell_type": "markdown",
   "metadata": {
    "id": "kyS6rRC_lgGY",
    "jp-MarkdownHeadingCollapsed": true
   },
   "source": [
    "### Simple Speed Comparison: BERT vs JAX"
   ]
  },
  {
   "cell_type": "code",
   "execution_count": null,
   "metadata": {
    "colab": {
     "base_uri": "https://localhost:8080/"
    },
    "id": "6d1ndJdHjHqg",
    "outputId": "a82dfbb9-1d11-4d42-b77f-67c5692ca15a"
   },
   "outputs": [],
   "source": [
    "from transformers import BertTokenizer, BertModel, FlaxBertModel\n",
    "import jax\n",
    "from jax import grad, jit\n",
    "import jax.numpy as np\n",
    "np.set_printoptions(linewidth=240)\n",
    "\n",
    "tokenizer = BertTokenizer.from_pretrained('bert-base-uncased')\n",
    "jax_model = FlaxBertModel.from_pretrained('bert-base-uncased')\n",
    "pt_model = BertModel.from_pretrained('bert-base-uncased')"
   ]
  },
  {
   "cell_type": "code",
   "execution_count": null,
   "metadata": {
    "colab": {
     "base_uri": "https://localhost:8080/"
    },
    "id": "YTxoftzOjVyE",
    "outputId": "47e548d1-eb03-4819-cf48-16daebd62b3c"
   },
   "outputs": [],
   "source": [
    "def pt_forward():\n",
    "    inputs = tokenizer(\"You should probably TRAIN this model on a down-stream task to be able to use it for predictions and inference.\", return_tensors=\"pt\")\n",
    "    outputs = pt_model(**inputs)\n",
    "    return outputs.last_hidden_state\n",
    "\n",
    "pt_forward()"
   ]
  },
  {
   "cell_type": "code",
   "execution_count": null,
   "metadata": {
    "colab": {
     "base_uri": "https://localhost:8080/"
    },
    "id": "vGSMrQjzjpuy",
    "outputId": "e0fb66f9-2ba2-485f-8872-5343ce8f28e3"
   },
   "outputs": [],
   "source": [
    "%timeit pt_forward()"
   ]
  },
  {
   "cell_type": "code",
   "execution_count": null,
   "metadata": {
    "colab": {
     "base_uri": "https://localhost:8080/"
    },
    "id": "EjZhZ9qGjqui",
    "outputId": "a4d83d32-10ee-44a9-edd7-f39c34e34454"
   },
   "outputs": [],
   "source": [
    "def jax_forward():\n",
    "    inputs = tokenizer(\"You should probably TRAIN this model on a down-stream task to be able to use it for predictions and inference.\", return_tensors='jax')\n",
    "    outputs = jit(jax_model)(**inputs)\n",
    "    return outputs.last_hidden_state\n",
    "\n",
    "jax_forward()"
   ]
  },
  {
   "cell_type": "code",
   "execution_count": null,
   "metadata": {
    "colab": {
     "base_uri": "https://localhost:8080/"
    },
    "id": "58TgXoPdjt0x",
    "outputId": "9d0bd12a-2f6d-4072-cc40-2892640a67d1"
   },
   "outputs": [],
   "source": [
    "%timeit jax_forward().block_until_ready()"
   ]
  },
  {
   "cell_type": "markdown",
   "metadata": {
    "id": "1R69buRHmFA9"
   },
   "source": [
    "### Langid Data Load"
   ]
  },
  {
   "cell_type": "code",
   "execution_count": 58,
   "metadata": {
    "colab": {
     "base_uri": "https://localhost:8080/"
    },
    "id": "0eiu3UnjmHKG",
    "outputId": "152e9215-de2e-40a8-ea83-68c8d58611ff"
   },
   "outputs": [
    {
     "name": "stdout",
     "output_type": "stream",
     "text": [
      "DatasetDict({\n",
      "    train: Dataset({\n",
      "        features: ['Text', 'Language'],\n",
      "        num_rows: 9303\n",
      "    })\n",
      "    test: Dataset({\n",
      "        features: ['Text', 'Language'],\n",
      "        num_rows: 1034\n",
      "    })\n",
      "})\n",
      "Sample labels: ['English', 'German', 'Dutch', 'Tamil', 'Greek', 'Greek', 'French', 'Spanish', 'Russian', 'Malayalam']\n"
     ]
    }
   ],
   "source": [
    "from datasets import load_dataset\n",
    "from difflib import get_close_matches\n",
    "\n",
    "DATAPATH = '../../../data/langid/language_detection.csv'\n",
    "\n",
    "DATA_PERCENT_LIMIT = 100\n",
    "TEST_SPLIT = 0.1\n",
    "SEED = 42\n",
    "\n",
    "\n",
    "split = f'train[:{DATA_PERCENT_LIMIT}%]' if DATA_PERCENT_LIMIT else 'train'\n",
    "dataset = load_dataset(\"csv\", split=split, data_files=DATAPATH, encoding='utf-8').shuffle(seed=SEED)\n",
    "dataset = dataset.train_test_split(test_size=TEST_SPLIT, seed=SEED)\n",
    "\n",
    "train_size = len(dataset['train'])\n",
    "test_size = len(dataset['test'])\n",
    "\n",
    "N_LABELS = len(set(dataset['train']['Language']))\n",
    "\n",
    "print(dataset)\n",
    "print('Sample labels:', dataset['train'][:10]['Language'])\n",
    "\n",
    "\n",
    "LANG2ID = {\n",
    "    'English': 0,\n",
    "    'Malayalam': 1,\n",
    "    'Hindi': 2,\n",
    "    'Tamil': 3,\n",
    "    'Kannada': 4,\n",
    "    'French': 5,\n",
    "    'Spanish': 6,\n",
    "    'Portuguese': 7,\n",
    "    'Italian': 8,\n",
    "    'Russian': 9,\n",
    "    'Sweedish': 10,\n",
    "    'Dutch': 11,\n",
    "    'Arabic': 12,\n",
    "    'Turkish': 13,\n",
    "    'German': 14,\n",
    "    'Danish': 15,\n",
    "    'Greek': 16\n",
    "    }\n",
    "\n",
    "def lang_to_id(lang):\n",
    "      return LANG2ID[get_close_matches(lang, LANG2ID.keys())[0]]"
   ]
  },
  {
   "cell_type": "code",
   "execution_count": 3,
   "metadata": {},
   "outputs": [
    {
     "name": "stdout",
     "output_type": "stream",
     "text": [
      "Train label counts:\n",
      "English: 1243, (0.13)\n",
      "Malayalam: 533, (0.06)\n",
      "Hindi: 52, (0.01)\n",
      "Tamil: 420, (0.05)\n",
      "Kannada: 331, (0.04)\n",
      "French: 921, (0.10)\n",
      "Spanish: 739, (0.08)\n",
      "Portuguese: 0, (0.00)\n",
      "Italian: 616, (0.07)\n",
      "Russian: 626, (0.07)\n",
      "Sweedish: 606, (0.07)\n",
      "Dutch: 492, (0.05)\n",
      "Arabic: 471, (0.05)\n",
      "Turkish: 428, (0.05)\n",
      "German: 431, (0.05)\n",
      "Danish: 405, (0.04)\n",
      "Greek: 320, (0.03)\n",
      "---\n",
      "Test label counts:\n",
      "English: 142, (0.14)\n",
      "Malayalam: 61, (0.06)\n",
      "Hindi: 11, (0.01)\n",
      "Tamil: 49, (0.05)\n",
      "Kannada: 38, (0.04)\n",
      "French: 93, (0.09)\n",
      "Spanish: 80, (0.08)\n",
      "Portuguese: 0, (0.00)\n",
      "Italian: 82, (0.08)\n",
      "Russian: 66, (0.06)\n",
      "Sweedish: 70, (0.07)\n",
      "Dutch: 54, (0.05)\n",
      "Arabic: 65, (0.06)\n",
      "Turkish: 46, (0.04)\n",
      "German: 39, (0.04)\n",
      "Danish: 23, (0.02)\n",
      "Greek: 45, (0.04)\n"
     ]
    }
   ],
   "source": [
    "print('Train label counts:')\n",
    "for label in LANG2ID.keys():\n",
    "    print(f\"{label}: {dataset['train']['Language'].count(label)}, ({dataset['train']['Language'].count(label) / len(dataset['train']):.2f})\")\n",
    "\n",
    "print('---')\n",
    "\n",
    "print('Test label counts:')\n",
    "for label in LANG2ID.keys():\n",
    "    print(f\"{label}: {dataset['test']['Language'].count(label)}, ({dataset['test']['Language'].count(label) / len(dataset['test']):.2f})\")"
   ]
  },
  {
   "cell_type": "markdown",
   "metadata": {},
   "source": [
    "### Tokenize"
   ]
  },
  {
   "cell_type": "code",
   "execution_count": 4,
   "metadata": {
    "colab": {
     "base_uri": "https://localhost:8080/",
     "height": 518,
     "referenced_widgets": [
      "9cc887b025b24cff8b4b8184e99ed639",
      "43710f566333424c9185ceba18ff3ee7",
      "6d6ed1bfb29749fca673c486d2d0a824",
      "5e95917331af48c09faf9d1dfbafe915",
      "a1835e1a5d884e80a126b419a69b361b",
      "45037c38977c4a11ad72ac83d2fe993f",
      "423ec32b0962400583d6c00970ca8cfc",
      "60ce3dd895e5468aa7fdfe9845495624",
      "c328efe9a61e476a9b1f6880c57557ef",
      "d2ff778f59c84c5f84e762fb50000db1",
      "a0f7b3b956574e4b8cd0f9ff1c7a4ae5",
      "fb33d0aad8704f4da44e22096bfe7eaf",
      "c4c9e86eae6b4e4883061ec8f59305ac",
      "7aaa0aea039542e1b9438ef1336a55e0",
      "abf65fd7765d425aa9749fe7dbe28403",
      "15c06211b1fc47718006c09c951ba009",
      "fd0de6f58b414f0d9e156e5a7610d862",
      "3f431a8aa6924f25ae14e1d432dca235",
      "7d159038fd204086b153b120333bcc4f",
      "504a496205ee409ead86ee59a55ec565",
      "33aa37bed5e948138942773a41efdb10",
      "e4e03a2a6c654128a6719fee1c2fdc8a"
     ]
    },
    "id": "bkitOldIlNYa",
    "outputId": "1cf8a6af-31ad-4afa-812e-93f29d24ad4a"
   },
   "outputs": [
    {
     "name": "stdout",
     "output_type": "stream",
     "text": [
      "DatasetDict({\n",
      "    train: Dataset({\n",
      "        features: ['Text', 'Language', 'input_ids', 'token_type_ids', 'attention_mask', 'labels'],\n",
      "        num_rows: 9303\n",
      "    })\n",
      "    test: Dataset({\n",
      "        features: ['Text', 'Language', 'input_ids', 'token_type_ids', 'attention_mask', 'labels'],\n",
      "        num_rows: 1034\n",
      "    })\n",
      "})\n"
     ]
    }
   ],
   "source": [
    "''' BERT tokenize '''\n",
    "from transformers import BertTokenizer\n",
    "\n",
    "# tokenize\n",
    "tokenizer = BertTokenizer.from_pretrained(\"google-bert/bert-base-cased\")\n",
    "\n",
    "def tokenize_function(examples):\n",
    "    batch = tokenizer(examples['Text'], padding=\"max_length\", truncation=True)\n",
    "    batch['labels'] = [lang_to_id(lang) for lang in examples['Language']]\n",
    "    return batch\n",
    "\n",
    "tokenized_datasets = dataset.map(tokenize_function, batched=True)\n",
    "print(tokenized_datasets)"
   ]
  },
  {
   "cell_type": "markdown",
   "metadata": {},
   "source": [
    "### Evaluation Settings"
   ]
  },
  {
   "cell_type": "code",
   "execution_count": 5,
   "metadata": {},
   "outputs": [],
   "source": [
    "TRAIN_BATCH_SIZE = 4\n",
    "EVAL_BATCH_SIZE = 1\n",
    "stats = dict()"
   ]
  },
  {
   "cell_type": "markdown",
   "metadata": {
    "id": "40548-Eal6E-"
   },
   "source": [
    "### PT BERT Train"
   ]
  },
  {
   "cell_type": "code",
   "execution_count": 13,
   "metadata": {
    "colab": {
     "base_uri": "https://localhost:8080/",
     "height": 269
    },
    "id": "Psbf9FZ-5YpR",
    "outputId": "5a36fc92-720c-44e3-bdf7-a0774ae7a498"
   },
   "outputs": [
    {
     "name": "stderr",
     "output_type": "stream",
     "text": [
      "Some weights of BertForSequenceClassification were not initialized from the model checkpoint at google-bert/bert-base-cased and are newly initialized: ['classifier.bias', 'classifier.weight']\n",
      "You should probably TRAIN this model on a down-stream task to be able to use it for predictions and inference.\n",
      "mkdir: cannot create directory ‘../models/pt/20250319-1302’: No such file or directory\n"
     ]
    }
   ],
   "source": [
    "''' Setup '''\n",
    "import os\n",
    "import gc\n",
    "import sys\n",
    "import time\n",
    "import numpy as np\n",
    "from datetime import datetime\n",
    "\n",
    "from transformers import BertForSequenceClassification, TrainingArguments, Trainer\n",
    "import evaluate\n",
    "\n",
    "\n",
    "TRAIN_STEPS_LIMIT = -1\n",
    "N_EPOCHS = 1\n",
    "\n",
    "OUTPUT_PATH = '../models/pt'\n",
    "\n",
    "# Free memory\n",
    "gc.collect()\n",
    "\n",
    "# load pre-trained\n",
    "pt_model = BertForSequenceClassification.from_pretrained(\"google-bert/bert-base-cased\", num_labels=N_LABELS)\n",
    "\n",
    "# fine-tune\n",
    "log_dir = os.path.join(OUTPUT_PATH, datetime.now().strftime(\"%Y%m%d-%H%M\"))\n",
    "try:\n",
    "    os.system(f'mkdir {log_dir}')\n",
    "except:\n",
    "    print('log dir exists, aborting')\n",
    "    sys.exit(1)\n",
    "\n",
    "training_args = TrainingArguments(output_dir=log_dir,\n",
    "                                  label_names=['labels'],\n",
    "                                  num_train_epochs=N_EPOCHS,\n",
    "                                  max_steps = TRAIN_STEPS_LIMIT, #overrides num_train_epochs\n",
    "                                  per_device_train_batch_size=TRAIN_BATCH_SIZE,\n",
    "                                  per_device_eval_batch_size=EVAL_BATCH_SIZE,\n",
    "                                  eval_strategy=\"steps\",\n",
    "                                  eval_steps=500)\n",
    "\n",
    "metric = evaluate.load(\"accuracy\")\n",
    "\n",
    "def compute_metrics(eval_pred):\n",
    "    logits, labels = eval_pred\n",
    "    predictions = np.argmax(logits, axis=-1)\n",
    "    return metric.compute(predictions=predictions, references=labels)\n",
    "\n",
    "pt_trainer = Trainer(\n",
    "    model=pt_model,\n",
    "    args=training_args,\n",
    "    train_dataset=tokenized_datasets['train'],\n",
    "    eval_dataset=tokenized_datasets['test'],\n",
    "    compute_metrics=compute_metrics,\n",
    ")\n",
    "\n",
    "\n",
    "\n",
    "\n"
   ]
  },
  {
   "cell_type": "code",
   "execution_count": 39,
   "metadata": {},
   "outputs": [
    {
     "name": "stdout",
     "output_type": "stream",
     "text": [
      "PT train time: 1044.08ms per iteration (9713.03s / 9303 data points)\n"
     ]
    }
   ],
   "source": [
    "''' PR train'''\n",
    "\n",
    "# Hard-coding resulting time since it takes ~3 hours to complete\n",
    "\n",
    "'''\n",
    "pt_train_start_time = time.time()\n",
    "pt_trainer.train()\n",
    "pt_train_end_time = time.time()\n",
    "pt_train_time = pt_train_end_time - pt_train_start_time      # PT train time: 1044.08ms per iteration (9713.03s / 9303 data points)\n",
    "'''\n",
    "\n",
    "pt_train_time = 9713.03 #seconds\n",
    "print(f\"PT train time: {pt_train_time / len(tokenized_datasets['train']) * 1000:0.2f}ms per iteration \"\n",
    "      f\"({pt_train_time:0.2f}s / {len(tokenized_datasets['train'])} data points)\")"
   ]
  },
  {
   "cell_type": "markdown",
   "metadata": {},
   "source": [
    "### PT BERT Evaluate"
   ]
  },
  {
   "cell_type": "code",
   "execution_count": 20,
   "metadata": {},
   "outputs": [
    {
     "name": "stderr",
     "output_type": "stream",
     "text": [
      "100%|████████████████████████████████████████████████████████████████████████| 1034/1034 [05:28<00:00,  3.15it/s]"
     ]
    },
    {
     "name": "stdout",
     "output_type": "stream",
     "text": [
      "PT eval time: 317.76ms per iteration (328.56s / 1034 data points)\n",
      "pt stats:\n",
      "{'acc': 0.917, 'f1_macro': 0.874, 'precision_macro': 0.887, 'recall_macro': 0.888}\n"
     ]
    },
    {
     "name": "stderr",
     "output_type": "stream",
     "text": [
      "\n",
      "/home/hande/.virtualenvs/langid/lib/python3.11/site-packages/sklearn/metrics/_classification.py:1565: UndefinedMetricWarning: Precision is ill-defined and being set to 0.0 in labels with no predicted samples. Use `zero_division` parameter to control this behavior.\n",
      "  _warn_prf(average, modifier, f\"{metric.capitalize()} is\", len(result))\n"
     ]
    }
   ],
   "source": [
    "''' PT evaluate '''\n",
    "import os\n",
    "import time\n",
    "from tqdm import tqdm\n",
    "\n",
    "import numpy as np\n",
    "from datetime import datetime\n",
    "\n",
    "import evaluate\n",
    "from transformers import BertForSequenceClassification, TrainingArguments, Trainer\n",
    "\n",
    "CHECKPOINT = '../../../models/JAX/langid/pt/20250318-0945/checkpoint-2326'\n",
    "\n",
    "# load saved checkpoint\n",
    "pt_checkpoint = BertForSequenceClassification.from_pretrained(CHECKPOINT, num_labels=N_LABELS)\n",
    "pt_acc_metric = evaluate.load(\"accuracy\")\n",
    "pt_f1_metric = evaluate.load(\"f1\")\n",
    "pt_prec_metric = evaluate.load(\"precision\")\n",
    "pt_recall_metric = evaluate.load(\"recall\")\n",
    "\n",
    "# evaluate\n",
    "pt_eval_start_time = time.time()\n",
    "for data in tqdm(tokenized_datasets['test']):\n",
    "    #print(data)\n",
    "    texts = data['Text']\n",
    "    labels = [lang_to_id(data['Language'])]\n",
    "    inputs = tokenizer(texts, return_tensors=\"pt\", padding=\"max_length\", truncation=True)\n",
    "    predictions = [pt_checkpoint(**inputs)['logits'].argmax(-1)]\n",
    "    pt_acc_metric.add_batch(predictions=predictions, references=labels)\n",
    "    pt_f1_metric.add_batch(predictions=predictions, references=labels)\n",
    "    pt_prec_metric.add_batch(predictions=predictions, references=labels)\n",
    "    pt_recall_metric.add_batch(predictions=predictions, references=labels)\n",
    "\n",
    "pt_eval_end_time = time.time()\n",
    "pt_eval_time = pt_eval_end_time - pt_eval_start_time\n",
    "\n",
    "print(f\"PT eval time: {pt_eval_time / len(tokenized_datasets['test']) * 1000:0.2f}ms per iteration \"\n",
    "      f\"({pt_eval_time:0.2f}s / {len(tokenized_datasets['test'])} data points)\")\n",
    "\n",
    "\n",
    "stats['pt'] = {\n",
    "    'acc': round(pt_acc_metric.compute()['accuracy'], 3),\n",
    "    'f1_macro': round(pt_f1_metric.compute(average='macro')['f1'], 3),\n",
    "    'precision_macro': round(pt_prec_metric.compute(average='macro')['precision'], 3),\n",
    "    'recall_macro': round(pt_recall_metric.compute(average='macro')['recall'], 3)\n",
    "}\n",
    "\n",
    "print('pt stats:')\n",
    "print(stats['pt'])\n",
    "\n",
    "#PT eval time: 317.76ms per iteration (328.56s / 1034 data points)\n",
    "#pt stats: {'acc': 0.917, 'f1_macro': 0.874, 'precision_macro': 0.887, 'recall_macro': 0.888}"
   ]
  },
  {
   "cell_type": "markdown",
   "metadata": {},
   "source": [
    "### JAX BERT Train"
   ]
  },
  {
   "cell_type": "code",
   "execution_count": 42,
   "metadata": {},
   "outputs": [],
   "source": [
    "''' Setup '''\n",
    "import os\n",
    "import gc\n",
    "import sys\n",
    "\n",
    "import flax\n",
    "import jax\n",
    "import optax\n",
    "\n",
    "from itertools import chain\n",
    "from tqdm.notebook import tqdm\n",
    "from typing import Callable\n",
    "\n",
    "import jax.numpy as jnp\n",
    "\n",
    "from flax import traverse_util\n",
    "from flax.training import train_state\n",
    "from flax.training.common_utils import get_metrics, onehot, shard, shard_prng_key\n",
    "\n",
    "N_EPOCHS = 1\n",
    "LEARNING_RATE = 2e-5\n",
    "\n",
    "# Free memory\n",
    "gc.collect()\n",
    "\n",
    "# setup\n",
    "num_train_steps = len(dataset['train']) // TRAIN_BATCH_SIZE * N_EPOCHS\n",
    "learning_rate_function = optax.linear_schedule(init_value=LEARNING_RATE, end_value=0, transition_steps=num_train_steps)\n",
    "\n",
    "class TrainState(train_state.TrainState):\n",
    "    logits_function: Callable = flax.struct.field(pytree_node=False)\n",
    "    loss_function: Callable = flax.struct.field(pytree_node=False)\n",
    "\n",
    "def decay_mask_fn(params):\n",
    "    flat_params = traverse_util.flatten_dict(params)\n",
    "    flat_mask = {path: (path[-1] != \"bias\" and path[-2:] != (\"LayerNorm\", \"scale\")) for path in flat_params}\n",
    "    return traverse_util.unflatten_dict(flat_mask)\n",
    "\n",
    "def adamw(weight_decay):\n",
    "    return optax.adamw(learning_rate=learning_rate_function, b1=0.9, b2=0.999, eps=1e-6, weight_decay=weight_decay, mask=decay_mask_fn)\n",
    "\n",
    "def loss_function(logits, labels):\n",
    "  xentropy = optax.softmax_cross_entropy(logits, onehot(labels, num_classes=N_LABELS))\n",
    "  return jnp.mean(xentropy)\n",
    "     \n",
    "def eval_function(logits):\n",
    "    return logits.argmax(-1)"
   ]
  },
  {
   "cell_type": "code",
   "execution_count": 43,
   "metadata": {},
   "outputs": [
    {
     "name": "stderr",
     "output_type": "stream",
     "text": [
      "Some weights of the model checkpoint at google-bert/bert-base-cased were not used when initializing FlaxBertForSequenceClassification: {('cls', 'predictions', 'transform', 'dense', 'bias'), ('cls', 'predictions', 'bias'), ('cls', 'predictions', 'transform', 'dense', 'kernel'), ('cls', 'predictions', 'transform', 'LayerNorm', 'bias'), ('cls', 'predictions', 'transform', 'LayerNorm', 'scale')}\n",
      "- This IS expected if you are initializing FlaxBertForSequenceClassification from the checkpoint of a model trained on another task or with another architecture (e.g. initializing a BertForSequenceClassification model from a BertForPreTraining model).\n",
      "- This IS NOT expected if you are initializing FlaxBertForSequenceClassification from the checkpoint of a model that you expect to be exactly identical (initializing a BertForSequenceClassification model from a BertForSequenceClassification model).\n",
      "Some weights of FlaxBertForSequenceClassification were not initialized from the model checkpoint at google-bert/bert-base-cased and are newly initialized: {('bert', 'pooler', 'dense', 'kernel'), ('bert', 'pooler', 'dense', 'bias'), ('classifier', 'bias'), ('classifier', 'kernel')}\n",
      "You should probably TRAIN this model on a down-stream task to be able to use it for predictions and inference.\n"
     ]
    }
   ],
   "source": [
    "from transformers import FlaxBertForSequenceClassification, BertConfig\n",
    "\n",
    "# load pre-trained\n",
    "config = BertConfig.from_pretrained('google-bert/bert-base-cased', num_labels=N_LABELS)\n",
    "jax_model = FlaxBertForSequenceClassification.from_pretrained('google-bert/bert-base-cased', config=config, seed=JAX_SEED)"
   ]
  },
  {
   "cell_type": "code",
   "execution_count": 44,
   "metadata": {},
   "outputs": [],
   "source": [
    "state = TrainState.create(\n",
    "    apply_fn=jax_model.__call__,\n",
    "    params=jax_model.params,\n",
    "    tx=adamw(weight_decay=0.01),\n",
    "    logits_function=eval_function,\n",
    "    loss_function=loss_function,\n",
    ")"
   ]
  },
  {
   "cell_type": "code",
   "execution_count": 45,
   "metadata": {},
   "outputs": [],
   "source": [
    "def train_step(state, batch, dropout_rng):\n",
    "    targets = batch.pop(\"labels\")\n",
    "    dropout_rng, new_dropout_rng = jax.random.split(dropout_rng)\n",
    "\n",
    "    def loss_function(params):\n",
    "        logits = state.apply_fn(**batch, params=params, dropout_rng=dropout_rng, train=True)[0]\n",
    "        loss = state.loss_function(logits, targets)\n",
    "        return loss\n",
    "\n",
    "    grad_function = jax.value_and_grad(loss_function)\n",
    "    loss, grad = grad_function(state.params)\n",
    "    grad = jax.lax.pmean(grad, \"batch\")\n",
    "    new_state = state.apply_gradients(grads=grad)\n",
    "    metrics = jax.lax.pmean({\"loss\": loss, \"learning_rate\": learning_rate_function(state.step)}, axis_name=\"batch\")\n",
    "    return new_state, metrics, new_dropout_rng\n",
    "\n",
    "parallel_train_step = jax.pmap(train_step, axis_name=\"batch\", donate_argnums=(0,))"
   ]
  },
  {
   "cell_type": "code",
   "execution_count": 46,
   "metadata": {},
   "outputs": [],
   "source": [
    "def eval_step(state, batch):\n",
    "    logits = state.apply_fn(**batch, params=state.params, train=False)[0]\n",
    "    return state.logits_function(logits)\n",
    "\n",
    "parallel_eval_step = jax.pmap(eval_step, axis_name=\"batch\")"
   ]
  },
  {
   "cell_type": "code",
   "execution_count": 47,
   "metadata": {},
   "outputs": [],
   "source": [
    "def train_data_loader(rng, dataset, batch_size):\n",
    "    steps_per_epoch = len(dataset) // batch_size\n",
    "    perms = jax.random.permutation(rng, len(dataset))\n",
    "    perms = perms[: steps_per_epoch * batch_size]  # Skip incomplete batch.\n",
    "    perms = perms.reshape((steps_per_epoch, batch_size))\n",
    "    for perm in perms:\n",
    "        batch = dataset[perm]\n",
    "        del batch['Text']\n",
    "        del batch['Language']\n",
    "        batch = {k: jnp.array(v) for k, v in batch.items()}\n",
    "        batch = shard(batch)\n",
    "        yield batch\n",
    "\n",
    "def eval_data_loader(dataset, batch_size):\n",
    "    for i in range(len(dataset) // batch_size):\n",
    "        batch = dataset[i * batch_size : (i + 1) * batch_size]\n",
    "        del batch['Text']\n",
    "        del batch['Language']        \n",
    "        batch = {k: jnp.array(v) for k, v in batch.items()}\n",
    "        batch = shard(batch)\n",
    "        yield batch"
   ]
  },
  {
   "cell_type": "code",
   "execution_count": 48,
   "metadata": {},
   "outputs": [],
   "source": [
    "''' Initialize '''\n",
    "\n",
    "state = flax.jax_utils.replicate(state)\n",
    "num_labels = flax.jax_utils.replicate(N_LABELS)\n",
    "\n",
    "rng = jax.random.PRNGKey(JAX_SEED)\n",
    "dropout_rngs = jax.random.split(rng, jax.local_device_count())\n",
    "\n",
    "#for i, epoch in enumerate(tqdm(range(1, N_EPOCHS + 1), desc=f\"Epoch ...\", position=0, leave=True)):\n",
    "rng, input_rng = jax.random.split(rng)"
   ]
  },
  {
   "cell_type": "code",
   "execution_count": 49,
   "metadata": {},
   "outputs": [
    {
     "data": {
      "application/vnd.jupyter.widget-view+json": {
       "model_id": "339acdab4816452caeacb5e7024149d5",
       "version_major": 2,
       "version_minor": 0
      },
      "text/plain": [
       "Training...:   0%|          | 0/2325 [00:00<?, ?it/s]"
      ]
     },
     "metadata": {},
     "output_type": "display_data"
    },
    {
     "name": "stdout",
     "output_type": "stream",
     "text": [
      "Jax train time: 45.31ms per iteration (421.51s / 9303 data points)\n"
     ]
    },
    {
     "name": "stderr",
     "output_type": "stream",
     "text": [
      "WARNING:absl:[process=0][thread=MainThread] Skipped cross-host ArrayMetadata validation because only one process is found: process_index=0.\n"
     ]
    }
   ],
   "source": [
    "''' JAX train '''\n",
    "import time\n",
    "from datetime import datetime\n",
    "\n",
    "import orbax.checkpoint as ocp\n",
    "\n",
    "\n",
    "jax_train_start_time = time.time()\n",
    "with tqdm(total=len(tokenized_datasets['train']) // TRAIN_BATCH_SIZE, desc=\"Training...\", leave=False) as progress_bar_train:\n",
    "  for batch in train_data_loader(input_rng, tokenized_datasets['train'], TRAIN_BATCH_SIZE):\n",
    "    state, train_metrics, dropout_rngs = parallel_train_step(state, batch, dropout_rngs)\n",
    "    progress_bar_train.update(1)\n",
    "jax_train_end_time = time.time()\n",
    "jax_train_time = jax_train_end_time - jax_train_start_time ## Jax train time: 44.10ms per iteration (410.22s / 9303 data points)\n",
    "\n",
    "print(f\"Jax train time: {jax_train_time / len(tokenized_datasets['train']) * 1000:0.2f}ms per iteration \"\n",
    "      f\"({jax_train_time:0.2f}s / {len(tokenized_datasets['train'])} data points)\")\n",
    "\n",
    "# save model\n",
    "OUTPUT_PATH = '/home/hande/Work/Fast_Optimized_Inference/models/JAX/langid/jax'\n",
    "log_dir = os.path.join(OUTPUT_PATH, datetime.now().strftime(\"%Y%m%d-%H%M\"))\n",
    "try:\n",
    "    os.system(f'mkdir {log_dir}')\n",
    "except:\n",
    "    print('log dir exists')\n",
    "\n",
    "jax_model.save_pretrained(log_dir)\n",
    "tokenizer.save_pretrained(log_dir)\n",
    "\n",
    "# save params with orbax checkpointing\n",
    "checkpointer = ocp.PyTreeCheckpointer()\n",
    "# convert params to non-sharded JAX arrays\n",
    "checkpointer.save(os.path.join(log_dir, 'params'), jax.tree_map(lambda x: jax.device_put(x, jax.devices()[0]), state.params))\n",
    "\n",
    "# Jax train time: 45.31ms per iteration (421.51s / 9303 data points)"
   ]
  },
  {
   "cell_type": "markdown",
   "metadata": {},
   "source": [
    "### JAX BERT Evaluate"
   ]
  },
  {
   "cell_type": "code",
   "execution_count": 22,
   "metadata": {},
   "outputs": [
    {
     "name": "stderr",
     "output_type": "stream",
     "text": [
      "/home/hande/.virtualenvs/langid/lib/python3.11/site-packages/orbax/checkpoint/_src/serialization/type_handlers.py:1250: UserWarning: Couldn't find sharding info under RestoreArgs. Populating sharding info from sharding file. Please note restoration time will be slightly increased due to reading from file instead of directly from RestoreArgs. Note also that this option is unsafe when restoring on a different topology than the checkpoint was saved with.\n",
      "  warnings.warn(\n",
      "/tmp/ipykernel_5512/2791528893.py:28: DeprecationWarning: jax.tree_map is deprecated: use jax.tree.map (jax v0.4.25 or newer) or jax.tree_util.tree_map (any JAX version).\n",
      "  params = jax.tree_map(lambda x: x.squeeze(axis=0) if x.ndim > 1 and x.shape[0] == 1 else x, params)\n",
      "100%|████████████████████████████████████████████████████████████████████████| 1034/1034 [00:24<00:00, 42.37it/s]"
     ]
    },
    {
     "name": "stdout",
     "output_type": "stream",
     "text": [
      "Jax eval time: 23.60ms per iteration (24.40s / 1034 data points)\n",
      "jax stats:\n",
      "{'acc': 0.922, 'f1_macro': 0.881, 'precision_macro': 0.893, 'recall_macro': 0.893}\n"
     ]
    },
    {
     "name": "stderr",
     "output_type": "stream",
     "text": [
      "\n",
      "/home/hande/.virtualenvs/langid/lib/python3.11/site-packages/sklearn/metrics/_classification.py:1565: UndefinedMetricWarning: Precision is ill-defined and being set to 0.0 in labels with no predicted samples. Use `zero_division` parameter to control this behavior.\n",
      "  _warn_prf(average, modifier, f\"{metric.capitalize()} is\", len(result))\n"
     ]
    }
   ],
   "source": [
    "''' JAX evaluate '''\n",
    "import itertools\n",
    "import os\n",
    "import time\n",
    "import numpy as np\n",
    "from tqdm import tqdm\n",
    "\n",
    "import flax\n",
    "from jax import jit\n",
    "import jax.numpy as jnp\n",
    "import orbax.checkpoint as ocp\n",
    "\n",
    "from transformers import FlaxBertForSequenceClassification, BertConfig, BertTokenizer\n",
    "import evaluate\n",
    "\n",
    "\n",
    "CHECKPOINT = '/home/hande/Work/Fast_Optimized_Inference/models/JAX/langid/jax/20250319-1043'\n",
    "\n",
    "# load saved checkpoint\n",
    "config = BertConfig.from_pretrained(CHECKPOINT, num_labels=N_LABELS)\n",
    "jax_checkpoint = FlaxBertForSequenceClassification.from_pretrained(CHECKPOINT, config=config)\n",
    "\n",
    "# Load params\n",
    "checkpointer = ocp.PyTreeCheckpointer()\n",
    "params = checkpointer.restore(os.path.join(CHECKPOINT, 'params'))\n",
    "\n",
    "# Unparallelize params\n",
    "params = jax.tree_map(lambda x: x.squeeze(axis=0) if x.ndim > 1 and x.shape[0] == 1 else x, params)\n",
    "\n",
    "# Convert params to jax arrays\n",
    "jax_params = jax.tree_map(lambda x: jnp.array(x), params)\n",
    "\n",
    "# Jit compile the model :) \n",
    "jax_checkpoint_jitted = jit(jax_checkpoint)\n",
    "\n",
    "'''\n",
    "#jax_checkpoint.params = state.params\n",
    "checkpoint_state = TrainState.create(\n",
    "    apply_fn=jax_checkpoint.__call__,\n",
    "    #params=checkpointer.restore(os.path.join(CHECKPOINT, 'params')),\n",
    "    params=ckptr.restore(os.path.join(CHECKPOINT, 'params'), args=ocp.args.StandardRestore(abstract_state)),\n",
    "    tx=adamw(weight_decay=0.01),\n",
    "    logits_function=eval_function,\n",
    "    loss_function=loss_function,\n",
    ")\n",
    "checkpoint_state = flax.jax_utils.replicate(checkpoint_state)\n",
    "'''\n",
    "\n",
    "jax_tokenizer = BertTokenizer.from_pretrained(CHECKPOINT)\n",
    "jax_acc_metric = evaluate.load(\"accuracy\")\n",
    "jax_f1_metric = evaluate.load(\"f1\")\n",
    "jax_prec_metric = evaluate.load(\"precision\")\n",
    "jax_recall_metric = evaluate.load(\"recall\")\n",
    "\n",
    "# evaluate\n",
    "jax_eval_start_time = time.time()\n",
    "for data in tqdm(tokenized_datasets['test']):\n",
    "    #print(data)\n",
    "    texts = data['Text']\n",
    "    labels = [lang_to_id(data['Language'])]\n",
    "    inputs = jax_tokenizer(texts, return_tensors='jax', padding=\"max_length\", truncation=True)\n",
    "    predictions = [jax_checkpoint_jitted(**inputs, params=jax_params)['logits'].argmax(-1)]\n",
    "    #print(predictions, labels)\n",
    "    jax_acc_metric.add_batch(predictions=predictions, references=labels)\n",
    "    jax_f1_metric.add_batch(predictions=predictions, references=labels)\n",
    "    jax_prec_metric.add_batch(predictions=predictions, references=labels)\n",
    "    jax_recall_metric.add_batch(predictions=predictions, references=labels)\n",
    "\n",
    "\n",
    "'''\n",
    "with tqdm(total=len(tokenized_datasets['test']) // EVAL_BATCH_SIZE, desc=\"Evaluating...\", leave=False) as progress_bar_eval:\n",
    "  for batch in eval_data_loader(tokenized_datasets['test'], EVAL_BATCH_SIZE):\n",
    "      labels = [batch.pop(\"labels\")]\n",
    "      predictions = parallel_eval_step(checkpoint_state, batch)\n",
    "      #predictions = [parallel_eval_step(state, batch)]\n",
    "      jax_acc_metric.add_batch(predictions=predictions, references=labels)\n",
    "      progress_bar_eval.update(1)\n",
    "'''\n",
    "\n",
    "jax_eval_end_time = time.time()\n",
    "jax_eval_time = jax_eval_end_time - jax_eval_start_time     #Jax eval time: 19.69ms per iteration (20.36s / 1034 data points)\n",
    "\n",
    "print(f\"Jax eval time: {jax_eval_time / len(tokenized_datasets['test']) * 1000:0.2f}ms per iteration \"\n",
    "      f\"({jax_eval_time:0.2f}s / {len(tokenized_datasets['test'])} data points)\")\n",
    "\n",
    "\n",
    "stats['jax'] = {\n",
    "    'acc': round(jax_acc_metric.compute()['accuracy'], 3),\n",
    "    'f1_macro': round(jax_f1_metric.compute(average='macro')['f1'], 3),\n",
    "    'precision_macro': round(jax_prec_metric.compute(average='macro')['precision'], 3),\n",
    "    'recall_macro': round(jax_recall_metric.compute(average='macro')['recall'], 3)\n",
    "}\n",
    "\n",
    "print('jax stats:')\n",
    "print(stats['jax'])\n",
    "\n",
    "# Jax eval time: 23.60ms per iteration (24.40s / 1034 data points)\n",
    "# jax stats: {'acc': 0.922, 'f1_macro': 0.881, 'precision_macro': 0.893, 'recall_macro': 0.893}"
   ]
  },
  {
   "cell_type": "markdown",
   "metadata": {
    "id": "fjCBNlOJntdV"
   },
   "source": [
    "### Fasttext Evaluate"
   ]
  },
  {
   "cell_type": "code",
   "execution_count": 25,
   "metadata": {},
   "outputs": [
    {
     "name": "stderr",
     "output_type": "stream",
     "text": [
      "100%|███████████████████████████████████████████████████████████████████████| 1034/1034 [00:02<00:00, 511.85it/s]"
     ]
    },
    {
     "name": "stdout",
     "output_type": "stream",
     "text": [
      "Fasttext eval time: 1.96ms per iteration (2.02s / 1034 data points)\n",
      "fasttext stats:\n",
      "{'acc': 0.941, 'f1_macro': 0.911, 'precision_macro': 0.903, 'recall_macro': 0.925}\n"
     ]
    },
    {
     "name": "stderr",
     "output_type": "stream",
     "text": [
      "\n"
     ]
    }
   ],
   "source": [
    "import time\n",
    "from tqdm import tqdm\n",
    "\n",
    "import numpy as np\n",
    "\n",
    "import evaluate\n",
    "import fasttext\n",
    "from difflib import get_close_matches\n",
    "from huggingface_hub import hf_hub_download\n",
    "\n",
    "FASTTEXT2ID = {\n",
    "    '__label__eng_Latn': 0,  # English\n",
    "    '__label__mal_Latn': 1,  # Malayalam (ISO 639-3 code: mal)\n",
    "    '__label__hin_Latn': 2,  # Hindi (ISO 639-3 code: hin)\n",
    "    '__label__tam_Latn': 3,  # Tamil (ISO 639-3 code: tam)\n",
    "    '__label__kan_Latn': 4,  # Kannada (ISO 639-3 code: kan)\n",
    "    '__label__fra_Latn': 5,  # French (ISO 639-3 code: fra)\n",
    "    '__label__spa_Latn': 6,  # Spanish (ISO 639-3 code: spa)\n",
    "    '__label__por_Latn': 7,  # Portuguese (ISO 639-3 code: por)\n",
    "    '__label__ita_Latn': 8,  # Italian (ISO 639-3 code: ita)\n",
    "    '__label__rus_Cyrl': 9,  # Russian (ISO 639-3 code: rus, Cyrillic script)\n",
    "    '__label__swe_Latn': 10, # Swedish (ISO 639-3 code: swe)\n",
    "    '__label__nld_Latn': 11, # Dutch (ISO 639-3 code: nld)\n",
    "    '__label__ara_Arab': 12, # Arabic (ISO 639-3 code: ara, Arabic script)\n",
    "    '__label__tur_Latn': 13, # Turkish (ISO 639-3 code: tur)\n",
    "    '__label__deu_Latn': 14, # German (ISO 639-3 code: deu)\n",
    "    '__label__dan_Latn': 15, # Danish (ISO 639-3 code: dan)\n",
    "    '__label__gre_Latn': 16  # Greek (ISO 639-3 code: gre)\n",
    "}\n",
    "\n",
    "def fasttext_code_to_id(lang):\n",
    "      return FASTTEXT2ID[get_close_matches(lang, FASTTEXT2ID.keys())[0]]\n",
    "\n",
    "fasttext_model_path = hf_hub_download(repo_id=\"facebook/fasttext-language-identification\", \n",
    "                                      filename=\"model.bin\", \n",
    "                                      cache_dir=\"../../models/langid/fasttext/cached\")\n",
    "fasttext_model = fasttext.load_model(fasttext_model_path)\n",
    "\n",
    "fasttext_acc_metric = evaluate.load(\"accuracy\")\n",
    "fasttext_f1_metric = evaluate.load(\"f1\")\n",
    "fasttext_prec_metric = evaluate.load(\"precision\")\n",
    "fasttext_recall_metric = evaluate.load(\"recall\")\n",
    "\n",
    "fasttext_eval_start_time = time.time()\n",
    "for data in tqdm(tokenized_datasets['test']):\n",
    "    try:\n",
    "        text = data['Text'].strip()\n",
    "        labels = [lang_to_id(data['Language'])]\n",
    "        predicted_labels, _ = fasttext_model.predict(text, k=1)\n",
    "        predictions = [fasttext_code_to_id(label) for label in predicted_labels]\n",
    "        fasttext_acc_metric.add_batch(predictions=predictions, references=labels)\n",
    "        fasttext_f1_metric.add_batch(predictions=predictions, references=labels)\n",
    "        fasttext_prec_metric.add_batch(predictions=predictions, references=labels)\n",
    "        fasttext_recall_metric.add_batch(predictions=predictions, references=labels)\n",
    "    except:\n",
    "        continue\n",
    "fasttext_eval_end_time = time.time()\n",
    "fasttext_eval_time = fasttext_eval_end_time - fasttext_eval_start_time     #Jax eval time: 19.69ms per iteration (20.36s / 1034 data points)\n",
    "\n",
    "print(f\"Fasttext eval time: {fasttext_eval_time / len(tokenized_datasets['test']) * 1000:0.2f}ms per iteration \"\n",
    "      f\"({fasttext_eval_time:0.2f}s / {len(tokenized_datasets['test'])} data points)\")\n",
    "\n",
    "\n",
    "stats['fasttext'] = {\n",
    "    'acc': round(fasttext_acc_metric.compute()['accuracy'], 3),\n",
    "    'f1_macro': round(fasttext_f1_metric.compute(average='macro')['f1'], 3),\n",
    "    'precision_macro': round(fasttext_prec_metric.compute(average='macro')['precision'], 3),\n",
    "    'recall_macro': round(fasttext_recall_metric.compute(average='macro')['recall'], 3)\n",
    "}\n",
    "\n",
    "print('fasttext stats:')\n",
    "print(stats['fasttext'])\n",
    "\n",
    "# Fasttext eval time: 1.96ms per iteration (2.02s / 1034 data points)\n",
    "# fasttext stats: {'acc': 0.941, 'f1_macro': 0.911, 'precision_macro': 0.903, 'recall_macro': 0.925}"
   ]
  },
  {
   "cell_type": "markdown",
   "metadata": {
    "id": "7GH8Nw0dm0x6"
   },
   "source": [
    "### Comparisons"
   ]
  },
  {
   "cell_type": "code",
   "execution_count": 60,
   "metadata": {
    "id": "eKNMI8qim5kh"
   },
   "outputs": [
    {
     "data": {
      "image/png": "[encoded data removed]",
      "text/plain": [
       "<Figure size 1400x600 with 2 Axes>"
      ]
     },
     "metadata": {},
     "output_type": "display_data"
    }
   ],
   "source": [
    "''' Run times '''\n",
    "import seaborn as sns\n",
    "import pandas as pd\n",
    "import matplotlib.pyplot as plt\n",
    "\n",
    "runtimes = {\n",
    "    'pt': {\n",
    "        'train': pt_train_time / train_size * 1000,\n",
    "        'inference': pt_eval_time / test_size * 1000\n",
    "    },\n",
    "    'jax': {\n",
    "        'train': jax_train_time / train_size * 1000,\n",
    "        'inference': jax_eval_time / test_size * 1000\n",
    "    },\n",
    "    'fasttext': {\n",
    "        'inference': fasttext_eval_time / test_size * 1000\n",
    "    }\n",
    "}\n",
    "\n",
    "data = []\n",
    "for model, values in runtimes.items():\n",
    "    for task, time in values.items():\n",
    "        data.append({'model': model, 'task': task, 'time': time})\n",
    "df = pd.DataFrame(data)\n",
    "\n",
    "fig, axes = plt.subplots(1, 2, figsize=(14, 6))\n",
    "\n",
    "sns.set(style=\"whitegrid\")\n",
    "sns.barplot(x='model', y='time', hue='model', data=df[df['task'] == 'train'], palette=\"Set2\", ax=axes[0])\n",
    "axes[0].set_title('Training Runtimes')\n",
    "axes[0].set_xlabel('Model')\n",
    "axes[0].set_ylabel('Time (ms per data point)')\n",
    "#axes[0].set_yscale('log')\n",
    "\n",
    "sns.barplot(x='model', y='time', hue='model', data=df[df['task'] == 'inference'], palette=\"Set2\", ax=axes[1])\n",
    "axes[1].set_title('Inference Runtimes')\n",
    "axes[1].set_xlabel('Model')\n",
    "axes[1].set_ylabel('Time (ms per data point)')\n",
    "#axes[1].set_yscale('log') \n",
    "\n",
    "plt.tight_layout()\n",
    "plt.show()\n"
   ]
  },
  {
   "cell_type": "code",
   "execution_count": 35,
   "metadata": {
    "id": "v13WZoU6m4b2"
   },
   "outputs": [
    {
     "data": {
      "image/png": "[encoded data removed]",
      "text/plain": [
       "<Figure size 1000x600 with 1 Axes>"
      ]
     },
     "metadata": {},
     "output_type": "display_data"
    }
   ],
   "source": [
    "''' Stats '''\n",
    "import seaborn as sns\n",
    "import pandas as pd\n",
    "import matplotlib.pyplot as plt\n",
    "\n",
    "data = []\n",
    "for model, metrics in stats.items():\n",
    "    for metric, value in metrics.items():\n",
    "        data.append({'model': model, 'metric': metric, 'value': value})\n",
    "df = pd.DataFrame(data)\n",
    "\n",
    "sns.set(style=\"whitegrid\")\n",
    "\n",
    "plt.figure(figsize=(10, 6))\n",
    "sns.barplot(x='metric', y='value', hue='model', data=df,  palette=\"pastel\")\n",
    "\n",
    "plt.ylabel('Score')\n",
    "plt.xlabel('Metric')\n",
    "plt.show()"
   ]
  },
  {
   "cell_type": "code",
   "execution_count": null,
   "metadata": {},
   "outputs": [],
   "source": []
  }
 ],
 "metadata": {
  "accelerator": "GPU",
  "colab": {
   "collapsed_sections": [
    "agiUvmZ1lzEv",
    "kyS6rRC_lgGY"
   ],
   "gpuType": "T4",
   "provenance": []
  },
  "kernelspec": {
   "display_name": "Python 3 (ipykernel)",
   "language": "python",
   "name": "python3"
  },
  "language_info": {
   "codemirror_mode": {
    "name": "ipython",
    "version": 3
   },
   "file_extension": ".py",
   "mimetype": "text/x-python",
   "name": "python",
   "nbconvert_exporter": "python",
   "pygments_lexer": "ipython3",
   "version": "3.11.9"
  },
  "widgets": {
   "application/vnd.jupyter.widget-state+json": {
    "15c06211b1fc47718006c09c951ba009": {
     "model_module": "@jupyter-widgets/base",
     "model_module_version": "1.2.0",
     "model_name": "LayoutModel",
     "state": {
      "_model_module": "@jupyter-widgets/base",
      "_model_module_version": "1.2.0",
      "_model_name": "LayoutModel",
      "_view_count": null,
      "_view_module": "@jupyter-widgets/base",
      "_view_module_version": "1.2.0",
      "_view_name": "LayoutView",
      "align_content": null,
      "align_items": null,
      "align_self": null,
      "border": null,
      "bottom": null,
      "display": null,
      "flex": null,
      "flex_flow": null,
      "grid_area": null,
      "grid_auto_columns": null,
      "grid_auto_flow": null,
      "grid_auto_rows": null,
      "grid_column": null,
      "grid_gap": null,
      "grid_row": null,
      "grid_template_areas": null,
      "grid_template_columns": null,
      "grid_template_rows": null,
      "height": null,
      "justify_content": null,
      "justify_items": null,
      "left": null,
      "margin": null,
      "max_height": null,
      "max_width": null,
      "min_height": null,
      "min_width": null,
      "object_fit": null,
      "object_position": null,
      "order": null,
      "overflow": null,
      "overflow_x": null,
      "overflow_y": null,
      "padding": null,
      "right": null,
      "top": null,
      "visibility": null,
      "width": null
     }
    },
    "33aa37bed5e948138942773a41efdb10": {
     "model_module": "@jupyter-widgets/base",
     "model_module_version": "1.2.0",
     "model_name": "LayoutModel",
     "state": {
      "_model_module": "@jupyter-widgets/base",
      "_model_module_version": "1.2.0",
      "_model_name": "LayoutModel",
      "_view_count": null,
      "_view_module": "@jupyter-widgets/base",
      "_view_module_version": "1.2.0",
      "_view_name": "LayoutView",
      "align_content": null,
      "align_items": null,
      "align_self": null,
      "border": null,
      "bottom": null,
      "display": null,
      "flex": null,
      "flex_flow": null,
      "grid_area": null,
      "grid_auto_columns": null,
      "grid_auto_flow": null,
      "grid_auto_rows": null,
      "grid_column": null,
      "grid_gap": null,
      "grid_row": null,
      "grid_template_areas": null,
      "grid_template_columns": null,
      "grid_template_rows": null,
      "height": null,
      "justify_content": null,
      "justify_items": null,
      "left": null,
      "margin": null,
      "max_height": null,
      "max_width": null,
      "min_height": null,
      "min_width": null,
      "object_fit": null,
      "object_position": null,
      "order": null,
      "overflow": null,
      "overflow_x": null,
      "overflow_y": null,
      "padding": null,
      "right": null,
      "top": null,
      "visibility": null,
      "width": null
     }
    },
    "3f431a8aa6924f25ae14e1d432dca235": {
     "model_module": "@jupyter-widgets/controls",
     "model_module_version": "1.5.0",
     "model_name": "DescriptionStyleModel",
     "state": {
      "_model_module": "@jupyter-widgets/controls",
      "_model_module_version": "1.5.0",
      "_model_name": "DescriptionStyleModel",
      "_view_count": null,
      "_view_module": "@jupyter-widgets/base",
      "_view_module_version": "1.2.0",
      "_view_name": "StyleView",
      "description_width": ""
     }
    },
    "423ec32b0962400583d6c00970ca8cfc": {
     "model_module": "@jupyter-widgets/controls",
     "model_module_version": "1.5.0",
     "model_name": "DescriptionStyleModel",
     "state": {
      "_model_module": "@jupyter-widgets/controls",
      "_model_module_version": "1.5.0",
      "_model_name": "DescriptionStyleModel",
      "_view_count": null,
      "_view_module": "@jupyter-widgets/base",
      "_view_module_version": "1.2.0",
      "_view_name": "StyleView",
      "description_width": ""
     }
    },
    "43710f566333424c9185ceba18ff3ee7": {
     "model_module": "@jupyter-widgets/controls",
     "model_module_version": "1.5.0",
     "model_name": "HTMLModel",
     "state": {
      "_dom_classes": [],
      "_model_module": "@jupyter-widgets/controls",
      "_model_module_version": "1.5.0",
      "_model_name": "HTMLModel",
      "_view_count": null,
      "_view_module": "@jupyter-widgets/controls",
      "_view_module_version": "1.5.0",
      "_view_name": "HTMLView",
      "description": "",
      "description_tooltip": null,
      "layout": "IPY_MODEL_45037c38977c4a11ad72ac83d2fe993f",
      "placeholder": "​",
      "style": "IPY_MODEL_423ec32b0962400583d6c00970ca8cfc",
      "value": "Map: 100%"
     }
    },
    "45037c38977c4a11ad72ac83d2fe993f": {
     "model_module": "@jupyter-widgets/base",
     "model_module_version": "1.2.0",
     "model_name": "LayoutModel",
     "state": {
      "_model_module": "@jupyter-widgets/base",
      "_model_module_version": "1.2.0",
      "_model_name": "LayoutModel",
      "_view_count": null,
      "_view_module": "@jupyter-widgets/base",
      "_view_module_version": "1.2.0",
      "_view_name": "LayoutView",
      "align_content": null,
      "align_items": null,
      "align_self": null,
      "border": null,
      "bottom": null,
      "display": null,
      "flex": null,
      "flex_flow": null,
      "grid_area": null,
      "grid_auto_columns": null,
      "grid_auto_flow": null,
      "grid_auto_rows": null,
      "grid_column": null,
      "grid_gap": null,
      "grid_row": null,
      "grid_template_areas": null,
      "grid_template_columns": null,
      "grid_template_rows": null,
      "height": null,
      "justify_content": null,
      "justify_items": null,
      "left": null,
      "margin": null,
      "max_height": null,
      "max_width": null,
      "min_height": null,
      "min_width": null,
      "object_fit": null,
      "object_position": null,
      "order": null,
      "overflow": null,
      "overflow_x": null,
      "overflow_y": null,
      "padding": null,
      "right": null,
      "top": null,
      "visibility": null,
      "width": null
     }
    },
    "504a496205ee409ead86ee59a55ec565": {
     "model_module": "@jupyter-widgets/controls",
     "model_module_version": "1.5.0",
     "model_name": "ProgressStyleModel",
     "state": {
      "_model_module": "@jupyter-widgets/controls",
      "_model_module_version": "1.5.0",
      "_model_name": "ProgressStyleModel",
      "_view_count": null,
      "_view_module": "@jupyter-widgets/base",
      "_view_module_version": "1.2.0",
      "_view_name": "StyleView",
      "bar_color": null,
      "description_width": ""
     }
    },
    "5e95917331af48c09faf9d1dfbafe915": {
     "model_module": "@jupyter-widgets/controls",
     "model_module_version": "1.5.0",
     "model_name": "HTMLModel",
     "state": {
      "_dom_classes": [],
      "_model_module": "@jupyter-widgets/controls",
      "_model_module_version": "1.5.0",
      "_model_name": "HTMLModel",
      "_view_count": null,
      "_view_module": "@jupyter-widgets/controls",
      "_view_module_version": "1.5.0",
      "_view_name": "HTMLView",
      "description": "",
      "description_tooltip": null,
      "layout": "IPY_MODEL_d2ff778f59c84c5f84e762fb50000db1",
      "placeholder": "​",
      "style": "IPY_MODEL_a0f7b3b956574e4b8cd0f9ff1c7a4ae5",
      "value": " 9303/9303 [00:20&lt;00:00, 409.19 examples/s]"
     }
    },
    "60ce3dd895e5468aa7fdfe9845495624": {
     "model_module": "@jupyter-widgets/base",
     "model_module_version": "1.2.0",
     "model_name": "LayoutModel",
     "state": {
      "_model_module": "@jupyter-widgets/base",
      "_model_module_version": "1.2.0",
      "_model_name": "LayoutModel",
      "_view_count": null,
      "_view_module": "@jupyter-widgets/base",
      "_view_module_version": "1.2.0",
      "_view_name": "LayoutView",
      "align_content": null,
      "align_items": null,
      "align_self": null,
      "border": null,
      "bottom": null,
      "display": null,
      "flex": null,
      "flex_flow": null,
      "grid_area": null,
      "grid_auto_columns": null,
      "grid_auto_flow": null,
      "grid_auto_rows": null,
      "grid_column": null,
      "grid_gap": null,
      "grid_row": null,
      "grid_template_areas": null,
      "grid_template_columns": null,
      "grid_template_rows": null,
      "height": null,
      "justify_content": null,
      "justify_items": null,
      "left": null,
      "margin": null,
      "max_height": null,
      "max_width": null,
      "min_height": null,
      "min_width": null,
      "object_fit": null,
      "object_position": null,
      "order": null,
      "overflow": null,
      "overflow_x": null,
      "overflow_y": null,
      "padding": null,
      "right": null,
      "top": null,
      "visibility": null,
      "width": null
     }
    },
    "6d6ed1bfb29749fca673c486d2d0a824": {
     "model_module": "@jupyter-widgets/controls",
     "model_module_version": "1.5.0",
     "model_name": "FloatProgressModel",
     "state": {
      "_dom_classes": [],
      "_model_module": "@jupyter-widgets/controls",
      "_model_module_version": "1.5.0",
      "_model_name": "FloatProgressModel",
      "_view_count": null,
      "_view_module": "@jupyter-widgets/controls",
      "_view_module_version": "1.5.0",
      "_view_name": "ProgressView",
      "bar_style": "success",
      "description": "",
      "description_tooltip": null,
      "layout": "IPY_MODEL_60ce3dd895e5468aa7fdfe9845495624",
      "max": 9303,
      "min": 0,
      "orientation": "horizontal",
      "style": "IPY_MODEL_c328efe9a61e476a9b1f6880c57557ef",
      "value": 9303
     }
    },
    "7aaa0aea039542e1b9438ef1336a55e0": {
     "model_module": "@jupyter-widgets/controls",
     "model_module_version": "1.5.0",
     "model_name": "FloatProgressModel",
     "state": {
      "_dom_classes": [],
      "_model_module": "@jupyter-widgets/controls",
      "_model_module_version": "1.5.0",
      "_model_name": "FloatProgressModel",
      "_view_count": null,
      "_view_module": "@jupyter-widgets/controls",
      "_view_module_version": "1.5.0",
      "_view_name": "ProgressView",
      "bar_style": "success",
      "description": "",
      "description_tooltip": null,
      "layout": "IPY_MODEL_7d159038fd204086b153b120333bcc4f",
      "max": 1034,
      "min": 0,
      "orientation": "horizontal",
      "style": "IPY_MODEL_504a496205ee409ead86ee59a55ec565",
      "value": 1034
     }
    },
    "7d159038fd204086b153b120333bcc4f": {
     "model_module": "@jupyter-widgets/base",
     "model_module_version": "1.2.0",
     "model_name": "LayoutModel",
     "state": {
      "_model_module": "@jupyter-widgets/base",
      "_model_module_version": "1.2.0",
      "_model_name": "LayoutModel",
      "_view_count": null,
      "_view_module": "@jupyter-widgets/base",
      "_view_module_version": "1.2.0",
      "_view_name": "LayoutView",
      "align_content": null,
      "align_items": null,
      "align_self": null,
      "border": null,
      "bottom": null,
      "display": null,
      "flex": null,
      "flex_flow": null,
      "grid_area": null,
      "grid_auto_columns": null,
      "grid_auto_flow": null,
      "grid_auto_rows": null,
      "grid_column": null,
      "grid_gap": null,
      "grid_row": null,
      "grid_template_areas": null,
      "grid_template_columns": null,
      "grid_template_rows": null,
      "height": null,
      "justify_content": null,
      "justify_items": null,
      "left": null,
      "margin": null,
      "max_height": null,
      "max_width": null,
      "min_height": null,
      "min_width": null,
      "object_fit": null,
      "object_position": null,
      "order": null,
      "overflow": null,
      "overflow_x": null,
      "overflow_y": null,
      "padding": null,
      "right": null,
      "top": null,
      "visibility": null,
      "width": null
     }
    },
    "9cc887b025b24cff8b4b8184e99ed639": {
     "model_module": "@jupyter-widgets/controls",
     "model_module_version": "1.5.0",
     "model_name": "HBoxModel",
     "state": {
      "_dom_classes": [],
      "_model_module": "@jupyter-widgets/controls",
      "_model_module_version": "1.5.0",
      "_model_name": "HBoxModel",
      "_view_count": null,
      "_view_module": "@jupyter-widgets/controls",
      "_view_module_version": "1.5.0",
      "_view_name": "HBoxView",
      "box_style": "",
      "children": [
       "IPY_MODEL_43710f566333424c9185ceba18ff3ee7",
       "IPY_MODEL_6d6ed1bfb29749fca673c486d2d0a824",
       "IPY_MODEL_5e95917331af48c09faf9d1dfbafe915"
      ],
      "layout": "IPY_MODEL_a1835e1a5d884e80a126b419a69b361b"
     }
    },
    "a0f7b3b956574e4b8cd0f9ff1c7a4ae5": {
     "model_module": "@jupyter-widgets/controls",
     "model_module_version": "1.5.0",
     "model_name": "DescriptionStyleModel",
     "state": {
      "_model_module": "@jupyter-widgets/controls",
      "_model_module_version": "1.5.0",
      "_model_name": "DescriptionStyleModel",
      "_view_count": null,
      "_view_module": "@jupyter-widgets/base",
      "_view_module_version": "1.2.0",
      "_view_name": "StyleView",
      "description_width": ""
     }
    },
    "a1835e1a5d884e80a126b419a69b361b": {
     "model_module": "@jupyter-widgets/base",
     "model_module_version": "1.2.0",
     "model_name": "LayoutModel",
     "state": {
      "_model_module": "@jupyter-widgets/base",
      "_model_module_version": "1.2.0",
      "_model_name": "LayoutModel",
      "_view_count": null,
      "_view_module": "@jupyter-widgets/base",
      "_view_module_version": "1.2.0",
      "_view_name": "LayoutView",
      "align_content": null,
      "align_items": null,
      "align_self": null,
      "border": null,
      "bottom": null,
      "display": null,
      "flex": null,
      "flex_flow": null,
      "grid_area": null,
      "grid_auto_columns": null,
      "grid_auto_flow": null,
      "grid_auto_rows": null,
      "grid_column": null,
      "grid_gap": null,
      "grid_row": null,
      "grid_template_areas": null,
      "grid_template_columns": null,
      "grid_template_rows": null,
      "height": null,
      "justify_content": null,
      "justify_items": null,
      "left": null,
      "margin": null,
      "max_height": null,
      "max_width": null,
      "min_height": null,
      "min_width": null,
      "object_fit": null,
      "object_position": null,
      "order": null,
      "overflow": null,
      "overflow_x": null,
      "overflow_y": null,
      "padding": null,
      "right": null,
      "top": null,
      "visibility": null,
      "width": null
     }
    },
    "abf65fd7765d425aa9749fe7dbe28403": {
     "model_module": "@jupyter-widgets/controls",
     "model_module_version": "1.5.0",
     "model_name": "HTMLModel",
     "state": {
      "_dom_classes": [],
      "_model_module": "@jupyter-widgets/controls",
      "_model_module_version": "1.5.0",
      "_model_name": "HTMLModel",
      "_view_count": null,
      "_view_module": "@jupyter-widgets/controls",
      "_view_module_version": "1.5.0",
      "_view_name": "HTMLView",
      "description": "",
      "description_tooltip": null,
      "layout": "IPY_MODEL_33aa37bed5e948138942773a41efdb10",
      "placeholder": "​",
      "style": "IPY_MODEL_e4e03a2a6c654128a6719fee1c2fdc8a",
      "value": " 1034/1034 [00:03&lt;00:00, 291.80 examples/s]"
     }
    },
    "c328efe9a61e476a9b1f6880c57557ef": {
     "model_module": "@jupyter-widgets/controls",
     "model_module_version": "1.5.0",
     "model_name": "ProgressStyleModel",
     "state": {
      "_model_module": "@jupyter-widgets/controls",
      "_model_module_version": "1.5.0",
      "_model_name": "ProgressStyleModel",
      "_view_count": null,
      "_view_module": "@jupyter-widgets/base",
      "_view_module_version": "1.2.0",
      "_view_name": "StyleView",
      "bar_color": null,
      "description_width": ""
     }
    },
    "c4c9e86eae6b4e4883061ec8f59305ac": {
     "model_module": "@jupyter-widgets/controls",
     "model_module_version": "1.5.0",
     "model_name": "HTMLModel",
     "state": {
      "_dom_classes": [],
      "_model_module": "@jupyter-widgets/controls",
      "_model_module_version": "1.5.0",
      "_model_name": "HTMLModel",
      "_view_count": null,
      "_view_module": "@jupyter-widgets/controls",
      "_view_module_version": "1.5.0",
      "_view_name": "HTMLView",
      "description": "",
      "description_tooltip": null,
      "layout": "IPY_MODEL_fd0de6f58b414f0d9e156e5a7610d862",
      "placeholder": "​",
      "style": "IPY_MODEL_3f431a8aa6924f25ae14e1d432dca235",
      "value": "Map: 100%"
     }
    },
    "d2ff778f59c84c5f84e762fb50000db1": {
     "model_module": "@jupyter-widgets/base",
     "model_module_version": "1.2.0",
     "model_name": "LayoutModel",
     "state": {
      "_model_module": "@jupyter-widgets/base",
      "_model_module_version": "1.2.0",
      "_model_name": "LayoutModel",
      "_view_count": null,
      "_view_module": "@jupyter-widgets/base",
      "_view_module_version": "1.2.0",
      "_view_name": "LayoutView",
      "align_content": null,
      "align_items": null,
      "align_self": null,
      "border": null,
      "bottom": null,
      "display": null,
      "flex": null,
      "flex_flow": null,
      "grid_area": null,
      "grid_auto_columns": null,
      "grid_auto_flow": null,
      "grid_auto_rows": null,
      "grid_column": null,
      "grid_gap": null,
      "grid_row": null,
      "grid_template_areas": null,
      "grid_template_columns": null,
      "grid_template_rows": null,
      "height": null,
      "justify_content": null,
      "justify_items": null,
      "left": null,
      "margin": null,
      "max_height": null,
      "max_width": null,
      "min_height": null,
      "min_width": null,
      "object_fit": null,
      "object_position": null,
      "order": null,
      "overflow": null,
      "overflow_x": null,
      "overflow_y": null,
      "padding": null,
      "right": null,
      "top": null,
      "visibility": null,
      "width": null
     }
    },
    "e4e03a2a6c654128a6719fee1c2fdc8a": {
     "model_module": "@jupyter-widgets/controls",
     "model_module_version": "1.5.0",
     "model_name": "DescriptionStyleModel",
     "state": {
      "_model_module": "@jupyter-widgets/controls",
      "_model_module_version": "1.5.0",
      "_model_name": "DescriptionStyleModel",
      "_view_count": null,
      "_view_module": "@jupyter-widgets/base",
      "_view_module_version": "1.2.0",
      "_view_name": "StyleView",
      "description_width": ""
     }
    },
    "fb33d0aad8704f4da44e22096bfe7eaf": {
     "model_module": "@jupyter-widgets/controls",
     "model_module_version": "1.5.0",
     "model_name": "HBoxModel",
     "state": {
      "_dom_classes": [],
      "_model_module": "@jupyter-widgets/controls",
      "_model_module_version": "1.5.0",
      "_model_name": "HBoxModel",
      "_view_count": null,
      "_view_module": "@jupyter-widgets/controls",
      "_view_module_version": "1.5.0",
      "_view_name": "HBoxView",
      "box_style": "",
      "children": [
       "IPY_MODEL_c4c9e86eae6b4e4883061ec8f59305ac",
       "IPY_MODEL_7aaa0aea039542e1b9438ef1336a55e0",
       "IPY_MODEL_abf65fd7765d425aa9749fe7dbe28403"
      ],
      "layout": "IPY_MODEL_15c06211b1fc47718006c09c951ba009"
     }
    },
    "fd0de6f58b414f0d9e156e5a7610d862": {
     "model_module": "@jupyter-widgets/base",
     "model_module_version": "1.2.0",
     "model_name": "LayoutModel",
     "state": {
      "_model_module": "@jupyter-widgets/base",
      "_model_module_version": "1.2.0",
      "_model_name": "LayoutModel",
      "_view_count": null,
      "_view_module": "@jupyter-widgets/base",
      "_view_module_version": "1.2.0",
      "_view_name": "LayoutView",
      "align_content": null,
      "align_items": null,
      "align_self": null,
      "border": null,
      "bottom": null,
      "display": null,
      "flex": null,
      "flex_flow": null,
      "grid_area": null,
      "grid_auto_columns": null,
      "grid_auto_flow": null,
      "grid_auto_rows": null,
      "grid_column": null,
      "grid_gap": null,
      "grid_row": null,
      "grid_template_areas": null,
      "grid_template_columns": null,
      "grid_template_rows": null,
      "height": null,
      "justify_content": null,
      "justify_items": null,
      "left": null,
      "margin": null,
      "max_height": null,
      "max_width": null,
      "min_height": null,
      "min_width": null,
      "object_fit": null,
      "object_position": null,
      "order": null,
      "overflow": null,
      "overflow_x": null,
      "overflow_y": null,
      "padding": null,
      "right": null,
      "top": null,
      "visibility": null,
      "width": null
     }
    }
   }
  }
 },
 "nbformat": 4,
 "nbformat_minor": 4
}
